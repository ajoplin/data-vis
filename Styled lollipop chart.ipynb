{
 "cells": [
  {
   "cell_type": "code",
   "execution_count": 26,
   "metadata": {},
   "outputs": [],
   "source": [
    "#import libraries\n",
    "import pandas as pd\n",
    "import numpy as np\n",
    "import matplotlib.pyplot as plt\n",
    "import seaborn as sns"
   ]
  },
  {
   "cell_type": "code",
   "execution_count": 27,
   "metadata": {},
   "outputs": [],
   "source": [
    "##Styling parameters\n",
    "#Define colors using HEX values\n",
    "color1 = '#377F95' #teal \n",
    "color3 = '#B37AB0' #lavender \n",
    "color4 = '#928F8F' #gray\n",
    "color5 = 'w' #white\n",
    "color6 = 'k' #black\n",
    "\n",
    "#Font styles \n",
    "axfont = {'fontname':'Arial Narrow','fontsize':11,'color': color6} #axes labels \n",
    "tlfont = {'fontname':'Arial Narrow','fontsize':11, 'color': color6} #tick labels \n",
    "anfont = {'fontname':'Arial Narrow','fontsize':11,'color': color4} #annotations \n",
    "dlfont = {'fontname':'Arial Narrow','fontsize':14} #data labels\n",
    "\n",
    "#Marker and line styling\n",
    "markersize = 20"
   ]
  },
  {
   "cell_type": "code",
   "execution_count": 28,
   "metadata": {},
   "outputs": [],
   "source": [
    "#Sample data \n",
    "counts = [2,3,3,4,5,13,15]\n",
    "labels = ['Survey response 7','Survey response 6','Survey response 5',\n",
    "          'Survey response 4','Survey response 3','Survey response 2',\n",
    "          'Survey response 1']\n",
    "dataColor = [color3, color3, color3, color1, color1, color1, color1]"
   ]
  },
  {
   "cell_type": "code",
   "execution_count": 45,
   "metadata": {},
   "outputs": [
    {
     "data": {
      "image/png": "[encoded data removed]",
      "text/plain": [
       "<Figure size 432x288 with 1 Axes>"
      ]
     },
     "metadata": {
      "needs_background": "light"
     },
     "output_type": "display_data"
    }
   ],
   "source": [
    "##Create and style a lollipop chart \n",
    "#Set figure size \n",
    "fig, ax = plt.subplots()\n",
    "\n",
    "# fig, ax = plt.subplots(figsize=(5, 3.5))\n",
    "\n",
    "#Remove chart borders except for X axis \n",
    "sns.despine(fig=None, ax=None, top=True, right=True, left=True, bottom=False, offset=None, trim=False)\n",
    "\n",
    "#Set y limits and x limits \n",
    "ax.set_ylim([-1,6.5]) \n",
    "ax.set_xlim([0,16.1]) #Slightly larger than 50% (16) so that the line isn't cut off\n",
    "\n",
    "#Plot vertical lines to indicate 25% and 50% of survey responses \n",
    "plt.plot((16,16),(-0.5,6.47),\":\", color = color4, lw = 1.5) #x=50% of survey responses, y= desired range of line\n",
    "plt.plot((8,8),(-0.5,6.47),\":\", color = color4, lw = 1.5) #x=25% of survey responses, y=desired range of line\n",
    "\n",
    "# #Add a title and axes labels\n",
    "# plt.title('What do you think you gained by attending VCS 2019?', ha = \"center\", pad=10, **csfont)\n",
    "plt.xlabel('Number of responses', ha = \"center\", weight = \"bold\", **axfont)\n",
    "ax.xaxis.labelpad = 20\n",
    "\n",
    "#Format tick labels \n",
    "plt.xticks(ha = \"center\", **tlfont)\n",
    "plt.yticks(ha = \"right\", **tlfont, linespacing = 2)\n",
    "plt.tick_params(top=False, bottom=True, left=False, right=False, labelleft=True, labelbottom=True)\n",
    "\n",
    "total = len(counts)\n",
    "for r in range(total):\n",
    "    rcolor = dataColor[r]\n",
    "    plt.hlines(y=labels[r],xmin=0,xmax=counts[r],color=rcolor)\n",
    "    plt.plot(counts[r], labels[r], \"o\", color = rcolor, markersize = markersize)\n",
    "\n",
    "#Add data labels to lollipop ends \n",
    "# total = len(counts)\n",
    "for i in range(7):\n",
    "    index = 6-i\n",
    "    nums = counts\n",
    "    text = nums[index] #data label text is the value\n",
    "    x1 = nums[index] #x position is also the value\n",
    "    y1 = 6-i-0.05 #y position adjusted so that text is centered on the marker \n",
    "    datalabel = plt.annotate(text, xy=(x1,y1), xytext = (x1,y1), color=color5, ha = 'center', va = 'center', **dlfont)\n",
    "    \n",
    "#Add annotations to 25% and 50% lines\n",
    "ann2 = plt.annotate('25% of \\nsurvey \\nresponses', xy=(7.8,-0.3), xytext = (7.8,-0.3),\n",
    "                   **anfont, va = \"bottom\", ha = \"right\")\n",
    "ann3 = plt.annotate('50% of \\nsurvey \\nresponses', xy=(15.8,-0.3), xytext = (15.8,-0.3),\n",
    "                   **anfont, va = \"bottom\", ha = \"right\") \n",
    "\n",
    "#Save figure as a pdf \n",
    "plt.savefig(\"Lollipop chart.pdf\", dpi=350, transparent=True, bbox_inches=\"tight\")"
   ]
  },
  {
   "cell_type": "code",
   "execution_count": null,
   "metadata": {},
   "outputs": [],
   "source": []
  }
 ],
 "metadata": {
  "kernelspec": {
   "display_name": "Python 3",
   "language": "python",
   "name": "python3"
  },
  "language_info": {
   "codemirror_mode": {
    "name": "ipython",
    "version": 3
   },
   "file_extension": ".py",
   "mimetype": "text/x-python",
   "name": "python",
   "nbconvert_exporter": "python",
   "pygments_lexer": "ipython3",
   "version": "3.7.3"
  }
 },
 "nbformat": 4,
 "nbformat_minor": 2
}
